{
 "cells": [
  {
   "cell_type": "markdown",
   "id": "2a0ed781",
   "metadata": {},
   "source": [
    "## Python problem for Control Structure\n",
    "\n",
    "### LOOPS (Iteration-based problems)\n",
    "\n",
    "#### Q1. Daily Gas Fee Average \n",
    " Description: Calculate the average gas fee from a list of daily Ethereum gas fees.\n",
    " Input: List of gas fees (e.g., [30, 40, 35, 50, 45])\n",
    " Output: Average gas fee (e.g., 40.0)\n"
   ]
  },
  {
   "cell_type": "code",
   "execution_count": 2,
   "id": "d91b5a32",
   "metadata": {},
   "outputs": [
    {
     "name": "stdout",
     "output_type": "stream",
     "text": [
      " The average gas fee is 40.0\n"
     ]
    }
   ],
   "source": [
    "gas_fees = [30, 40, 35, 50, 45] # Define list of Ethereum gas fees\n",
    "total_fees = 0 # Initialize variable to store total gas fees\n",
    "for i in gas_fees:\n",
    "    total_fees = total_fees + i\n",
    "    i+=1\n",
    "\n",
    "no = len(gas_fees) # Get number of items in gas fees list\n",
    "avg_gas_fees = total_fees/no\n",
    "print(f\" The average gas fee is {avg_gas_fees}\")\n",
    "\n"
   ]
  },
  {
   "cell_type": "markdown",
   "id": "8a568791",
   "metadata": {},
   "source": [
    "#### Q2. Highest Daily Transaction Count\n",
    " Description: Find the day with the highest number of transactions on a blockchain.\n",
    " Input: List of daily transaction counts (e.g., [1200, 1400, 1350, 1600, 1100])\n",
    " Output: Day with the highest transaction count (e.g., Day 4)"
   ]
  },
  {
   "cell_type": "code",
   "execution_count": null,
   "id": "cb2e66ed",
   "metadata": {},
   "outputs": [
    {
     "name": "stdout",
     "output_type": "stream",
     "text": [
      "The day with highest transaction count is Day 4\n"
     ]
    }
   ],
   "source": [
    "tx_counts = [1200, 1400, 1350, 1600, 1100] # Define list of daily transaction counts\n",
    "max_tx = 0\n",
    "max_day = 0\n",
    "\n",
    "for i, tx in enumerate(tx_counts): # use the enumerate function to iterate through both list index and value\n",
    "    if tx > max_tx:\n",
    "        max_tx = tx\n",
    "        max_day = i+1\n",
    "\n",
    "print(f\"The day with highest transaction count is Day {max_day}\")\n"
   ]
  },
  {
   "cell_type": "markdown",
   "id": "d304d6e2",
   "metadata": {},
   "source": [
    "#### Q3. Find Token Min/Max Price\n",
    " Description: Determine the lowest and highest price of a token over a week.\n",
    " Input: List of prices (e.g., [2.1, 2.5, 2.0, 2.8, 2.6])\n",
    " Output: Min: 2.0, Max: 2.8"
   ]
  },
  {
   "cell_type": "code",
   "execution_count": 17,
   "id": "3d5df795",
   "metadata": {},
   "outputs": [
    {
     "name": "stdout",
     "output_type": "stream",
     "text": [
      "The lowest token price for the week is 2.0\n",
      "The highest token price for the week is 2.8\n"
     ]
    }
   ],
   "source": [
    "prices =  [2.1, 2.5, 2.0, 2.8, 2.6]\n",
    "min_price = prices[0] \n",
    "\n",
    "for i in prices:\n",
    "    if i < min_price:\n",
    "        min_price = i\n",
    "print(f\"The lowest token price for the week is {min_price}\")\n",
    "\n",
    "max_price = 0\n",
    "for i in prices:\n",
    "    if i > max_price:\n",
    "        max_price = i\n",
    "print(f\"The highest token price for the week is {max_price}\")\n"
   ]
  },
  {
   "cell_type": "markdown",
   "id": "19b9bad1",
   "metadata": {},
   "source": [
    "#### Q4. Simple Moving Average for Token Price\n",
    " Description: Compute the simple moving average of a token’s price for a given window.\n",
    " Input: Prices (e.g., [1.0, 1.2, 1.3, 1.4, 1.6]), Window size (e.g., 3)\n",
    " Output: List of moving averages (e.g., [1.17, 1.3, 1.43])"
   ]
  },
  {
   "cell_type": "code",
   "execution_count": null,
   "id": "6ddc492e",
   "metadata": {},
   "outputs": [
    {
     "name": "stdout",
     "output_type": "stream",
     "text": [
      "Moviing averages: [1.17, 1.3, 1.43]\n"
     ]
    }
   ],
   "source": [
    "w_list = [1.0, 1.2, 1.3, 1.4, 1.6] # Define list of token prices\n",
    "window = 3 # Initialize window size for moving average (MA)\n",
    "m_total = 0 # Initialize total for each window\n",
    "m_avg = [] # Initialize list for final moving averages\n",
    "\n",
    "for id, price in enumerate(w_list): # use the enumerate method to iterate through both index and tiems in price list\n",
    "    if window <= len(w_list):\n",
    "        m_total = round(sum(w_list[id:window])/3,2)\n",
    "        m_avg.append(m_total)\n",
    "    id+=1\n",
    "    window+=1\n",
    "print(f\"Moviing averages: {m_avg}\")\n",
    "\n",
    "\n",
    "\n"
   ]
  },
  {
   "cell_type": "markdown",
   "id": "75a922d8",
   "metadata": {},
   "source": [
    "#### Q5. Count Profitable Days on DEX\n",
    " Description: Count the number of days a trader had a positive return on a DEX.\n",
    " Input: List of daily PnL (e.g., [0.03, -0.02, 0.01, 0.04, -0.01])\n",
    " Output: Number of profitable days (e.g., 3 days)"
   ]
  },
  {
   "cell_type": "code",
   "execution_count": null,
   "id": "b4517512",
   "metadata": {},
   "outputs": [
    {
     "name": "stdout",
     "output_type": "stream",
     "text": [
      " Number of profitable days: 3\n"
     ]
    }
   ],
   "source": [
    "p_list = [0.03, -0.02, 0.01, 0.04, -0.01]\n",
    "p_count = []\n",
    "for i in p_list:\n",
    "    if i > 0: # check for positive numbers i.e. numbers greater than 0\n",
    "        p_count.append(i)\n",
    "\n",
    "\n",
    "print(f\" Number of profitable days: {len(p_count)}\")\n"
   ]
  },
  {
   "cell_type": "markdown",
   "id": "78a6f777",
   "metadata": {},
   "source": [
    "## CONDITIONAL STATEMENTS (Decision-making problems)\n",
    "\n",
    "### Q1. NFT Mint Status Check\n",
    " Description: Check if an NFT is sold out or available for mint.\n",
    " Input: Total supply (e.g., 10,000), Minted count (e.g., 10,000)\n",
    " Output: Sold Out\n"
   ]
  },
  {
   "cell_type": "code",
   "execution_count": 28,
   "id": "936f63a7",
   "metadata": {},
   "outputs": [
    {
     "name": "stdout",
     "output_type": "stream",
     "text": [
      "All NFTs have been Sold out\n"
     ]
    }
   ],
   "source": [
    "total_supply = 10000\n",
    "mints = 10000\n",
    "\n",
    "if mints < total_supply:\n",
    "    print(\"NFT available for mint\")\n",
    "else:\n",
    "    print(\"All NFTs have been Sold out\")"
   ]
  },
  {
   "cell_type": "markdown",
   "id": "fe0f0181",
   "metadata": {},
   "source": [
    "### Q2. Stablecoin Health Check\n",
    " Description: Determine if a stablecoin is depegged (if price deviates from $1 by more than ±5%).\n",
    " Input: Stablecoin price (e.g., 0.93)\n",
    " Output: Depegged"
   ]
  },
  {
   "cell_type": "code",
   "execution_count": 31,
   "id": "413a73e0",
   "metadata": {},
   "outputs": [
    {
     "name": "stdout",
     "output_type": "stream",
     "text": [
      "Depegged\n"
     ]
    }
   ],
   "source": [
    "peg = 1\n",
    "s_price = 0.93\n",
    "\n",
    "if s_price < peg*0.05 or s_price > peg*0.05:\n",
    "    print(\"Depegged\")\n",
    "else:\n",
    "    print(\"Stable\")"
   ]
  },
  {
   "cell_type": "markdown",
   "id": "eaa55656",
   "metadata": {},
   "source": [
    "### Q3. Reward Eligibility\n",
    " Description: Check if a user qualifies for staking rewards (must stake ≥ 500 tokens).\n",
    " Input: Tokens staked (e.g., 300)\n",
    " Output: Not eligible"
   ]
  },
  {
   "cell_type": "code",
   "execution_count": 32,
   "id": "dacffdda",
   "metadata": {},
   "outputs": [
    {
     "name": "stdout",
     "output_type": "stream",
     "text": [
      "Not eligible\n"
     ]
    }
   ],
   "source": [
    "t_staked = 300\n",
    "\n",
    "if t_staked >= 500:\n",
    "    print(\"Eligible\")\n",
    "else:\n",
    "    print(\"Not eligible\")"
   ]
  },
  {
   "cell_type": "markdown",
   "id": "51019109",
   "metadata": {},
   "source": [
    "### Q4. Airdrop Eligibility\n",
    " Description: Check if a wallet is eligible for airdrop (must hold a specific token and have at least 5 transactions).\n",
    " Input: Holdings (e.g., 100), Number of transactions (e.g., 6)\n",
    " Output: Eligible"
   ]
  },
  {
   "cell_type": "code",
   "execution_count": 33,
   "id": "4dceb95e",
   "metadata": {},
   "outputs": [
    {
     "name": "stdout",
     "output_type": "stream",
     "text": [
      "Eligible\n"
     ]
    }
   ],
   "source": [
    "holdings = 100\n",
    "tx_count = 6\n",
    "\n",
    "if tx_count >= 5 and holdings > 1:\n",
    "    print(\"Eligible\")\n",
    "else:\n",
    "    print(\"Not eligible\")"
   ]
  },
  {
   "cell_type": "markdown",
   "id": "16a3f0fe",
   "metadata": {},
   "source": [
    "### Q5. Transaction Fee Efficiency\n",
    " Description: Flag if a transaction fee is greater than 5% of transaction amount.\n",
    " Input: Fee (e.g., 3), Transaction amount (e.g., 50)\n",
    " Output: Efficient"
   ]
  },
  {
   "cell_type": "code",
   "execution_count": 35,
   "id": "8953e3fa",
   "metadata": {},
   "outputs": [
    {
     "name": "stdout",
     "output_type": "stream",
     "text": [
      "Efficient\n"
     ]
    }
   ],
   "source": [
    "tx_amount = 50\n",
    "tx_fee = 3\n",
    "\n",
    "if tx_fee < tx_amount*0.05:\n",
    "    print(\"Inefficient\")\n",
    "else:\n",
    "    print(\"Efficient\")"
   ]
  },
  {
   "cell_type": "code",
   "execution_count": null,
   "id": "6e47a622",
   "metadata": {},
   "outputs": [],
   "source": []
  }
 ],
 "metadata": {
  "kernelspec": {
   "display_name": "nedu",
   "language": "python",
   "name": "python3"
  },
  "language_info": {
   "codemirror_mode": {
    "name": "ipython",
    "version": 3
   },
   "file_extension": ".py",
   "mimetype": "text/x-python",
   "name": "python",
   "nbconvert_exporter": "python",
   "pygments_lexer": "ipython3",
   "version": "3.9.13"
  }
 },
 "nbformat": 4,
 "nbformat_minor": 5
}
