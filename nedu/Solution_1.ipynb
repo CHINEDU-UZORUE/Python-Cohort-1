{
 "cells": [
  {
   "cell_type": "markdown",
   "id": "dd1b5f97",
   "metadata": {},
   "source": [
    "## This is a Solution Notebook to Python for Blockchain Data Analysis by Chinedu Uzorue (Cohort 1)\n",
    "\n",
    "### Python problems on Data structure\n",
    "\n",
    "#### Problem 1: Cryptocurrency Token Data\n",
    "This data structure represents information about different cryptocurrency tokens listed on a decentralized exchange (DEX).\n",
    "\n",
    "\n"
   ]
  },
  {
   "cell_type": "code",
   "execution_count": 1,
   "id": "7ca3c23c",
   "metadata": {},
   "outputs": [],
   "source": [
    "# Define and initialize variable\n",
    "\n",
    "crypto_tokens = [\n",
    "    {\n",
    "        \"name\": \"Token A\",\n",
    "        \"symbol\": \"TKA\",\n",
    "        \"blockchain\": \"Ethereum\",\n",
    "        \"current_price_usd\": 100.0,\n",
    "        \"transaction_history\": [\n",
    "            {\n",
    "                \"date\": \"2024-01-10\",\n",
    "                \"prices\": {\n",
    "                    \"open\": 98.0,\n",
    "                    \"close\": 100.0,\n",
    "                    \"high\": 101.0,\n",
    "                    \"low\": 97.0\n",
    "                },\n",
    "                \"volume\": 12000\n",
    "            },\n",
    "            {\n",
    "                \"date\": \"2024-01-09\",\n",
    "                \"prices\": {\n",
    "                    \"open\": 97.0,\n",
    "                    \"close\": 98.0,\n",
    "                    \"high\": 99.0,\n",
    "                    \"low\": 96.0\n",
    "                },\n",
    "                \"volume\": 15000\n",
    "            }\n",
    "        ],\n",
    "        \"supported_chains\": [\"Ethereum\", \"Polygon\"]\n",
    "    },\n",
    "    {\n",
    "        \"name\": \"Token B\",\n",
    "        \"symbol\": \"TKB\",\n",
    "        \"blockchain\": \"Binance Smart Chain\",\n",
    "        \"current_price_usd\": 200.0,\n",
    "        \"transaction_history\": [\n",
    "            {\n",
    "                \"date\": \"2024-01-10\",\n",
    "                \"prices\": {\n",
    "                    \"open\": 198.0,\n",
    "                    \"close\": 200.0,\n",
    "                    \"high\": 202.0,\n",
    "                    \"low\": 196.0\n",
    "                },\n",
    "                \"volume\": 18000\n",
    "            },\n",
    "            {\n",
    "                \"date\": \"2024-01-09\",\n",
    "                \"prices\": {\n",
    "                    \"open\": 196.0,\n",
    "                    \"close\": 198.0,\n",
    "                    \"high\": 199.0,\n",
    "                    \"low\": 195.0\n",
    "                },\n",
    "                \"volume\": 17000\n",
    "            }\n",
    "        ],\n",
    "        \"supported_chains\": [\"Binance Smart Chain\", \"Avalanche\"]\n",
    "    },\n",
    "    {\n",
    "        \"name\": \"Token C\",\n",
    "        \"symbol\": \"TKC\",\n",
    "        \"blockchain\": \"Solana\",\n",
    "        \"current_price_usd\": 300.0,\n",
    "        \"transaction_history\": [\n",
    "            {\n",
    "                \"date\": \"2024-01-10\",\n",
    "                \"prices\": {\n",
    "                    \"open\": 295.0,\n",
    "                    \"close\": 300.0,\n",
    "                    \"high\": 302.0,\n",
    "                    \"low\": 294.0\n",
    "                },\n",
    "                \"volume\": 22000\n",
    "            },\n",
    "            {\n",
    "                \"date\": \"2024-01-09\",\n",
    "                \"prices\": {\n",
    "                    \"open\": 294.0,\n",
    "                    \"close\": 295.0,\n",
    "                    \"high\": 296.0,\n",
    "                    \"low\": 293.0\n",
    "                },\n",
    "                \"volume\": 21000\n",
    "            }\n",
    "        ],\n",
    "        \"supported_chains\": [\"Solana\", \"Fantom\"]\n",
    "    }\n",
    "]\n",
    "\n",
    "\n"
   ]
  },
  {
   "cell_type": "markdown",
   "id": "14936c26",
   "metadata": {},
   "source": [
    "**Q1: Read Data**  \n",
    "Task: Display the current price of \"Token B\".\n",
    "\n"
   ]
  },
  {
   "cell_type": "code",
   "execution_count": 2,
   "id": "7c5be86d",
   "metadata": {},
   "outputs": [
    {
     "data": {
      "text/plain": [
       "200.0"
      ]
     },
     "execution_count": 2,
     "metadata": {},
     "output_type": "execute_result"
    }
   ],
   "source": [
    "crypto_tokens[1][\"current_price_usd\"]"
   ]
  },
  {
   "cell_type": "markdown",
   "id": "c82f8aa3",
   "metadata": {},
   "source": [
    "**Q2: Write Data** </br>\n",
    "Task: Add a new token \"Token D\" with some initial data to the `crypto_tokens` list.\n"
   ]
  },
  {
   "cell_type": "code",
   "execution_count": 3,
   "id": "0d179b55",
   "metadata": {},
   "outputs": [
    {
     "data": {
      "text/plain": [
       "[{'name': 'Token A',\n",
       "  'symbol': 'TKA',\n",
       "  'blockchain': 'Ethereum',\n",
       "  'current_price_usd': 100.0,\n",
       "  'transaction_history': [{'date': '2024-01-10',\n",
       "    'prices': {'open': 98.0, 'close': 100.0, 'high': 101.0, 'low': 97.0},\n",
       "    'volume': 12000},\n",
       "   {'date': '2024-01-09',\n",
       "    'prices': {'open': 97.0, 'close': 98.0, 'high': 99.0, 'low': 96.0},\n",
       "    'volume': 15000}],\n",
       "  'supported_chains': ['Ethereum', 'Polygon']},\n",
       " {'name': 'Token B',\n",
       "  'symbol': 'TKB',\n",
       "  'blockchain': 'Binance Smart Chain',\n",
       "  'current_price_usd': 200.0,\n",
       "  'transaction_history': [{'date': '2024-01-10',\n",
       "    'prices': {'open': 198.0, 'close': 200.0, 'high': 202.0, 'low': 196.0},\n",
       "    'volume': 18000},\n",
       "   {'date': '2024-01-09',\n",
       "    'prices': {'open': 196.0, 'close': 198.0, 'high': 199.0, 'low': 195.0},\n",
       "    'volume': 17000}],\n",
       "  'supported_chains': ['Binance Smart Chain', 'Avalanche']},\n",
       " {'name': 'Token C',\n",
       "  'symbol': 'TKC',\n",
       "  'blockchain': 'Solana',\n",
       "  'current_price_usd': 300.0,\n",
       "  'transaction_history': [{'date': '2024-01-10',\n",
       "    'prices': {'open': 295.0, 'close': 300.0, 'high': 302.0, 'low': 294.0},\n",
       "    'volume': 22000},\n",
       "   {'date': '2024-01-09',\n",
       "    'prices': {'open': 294.0, 'close': 295.0, 'high': 296.0, 'low': 293.0},\n",
       "    'volume': 21000}],\n",
       "  'supported_chains': ['Solana', 'Fantom']},\n",
       " {'name': 'Token D',\n",
       "  'symbol': 'NED',\n",
       "  'blockchain': 'Sui',\n",
       "  'current_price_usd': 0.00047,\n",
       "  'transaction_history': [{'date': '2024-01-10',\n",
       "    'prices': {'open': 0.00042,\n",
       "     'close': 0.00047,\n",
       "     'high': 0.00049,\n",
       "     'low': 0.00041},\n",
       "    'volume': 90000},\n",
       "   {'date': '2024-01-09',\n",
       "    'prices': {'open': 0.00039,\n",
       "     'close': 0.00041,\n",
       "     'high': 0.00042,\n",
       "     'low': 0.00036},\n",
       "    'volume': 85000}],\n",
       "  'supported_chains': ['Sui', 'Solana']}]"
      ]
     },
     "execution_count": 3,
     "metadata": {},
     "output_type": "execute_result"
    }
   ],
   "source": [
    "# Define and initialize dict for new token \"D\"\n",
    "token_D = {\n",
    "        \"name\": \"Token D\",\n",
    "        \"symbol\": \"NED\",\n",
    "        \"blockchain\": \"Sui\",\n",
    "        \"current_price_usd\": 0.00047,\n",
    "        \"transaction_history\": [\n",
    "            {\n",
    "                \"date\": \"2024-01-10\",\n",
    "                \"prices\": {\n",
    "                    \"open\": 0.00042,\n",
    "                    \"close\": 0.00047,\n",
    "                    \"high\": 0.00049,\n",
    "                    \"low\": 0.00041\n",
    "                },\n",
    "                \"volume\": 90000\n",
    "            },\n",
    "            {\n",
    "                \"date\": \"2024-01-09\",\n",
    "                \"prices\": {\n",
    "                      \"open\": 0.00039,\n",
    "                    \"close\": 0.00041,\n",
    "                    \"high\": 0.00042,\n",
    "                    \"low\": 0.00036\n",
    "                },\n",
    "                \"volume\": 85000\n",
    "            }\n",
    "        ],\n",
    "        \"supported_chains\": [\"Sui\", \"Solana\"]\n",
    "    }\n",
    "\n",
    "# Append new dict (token_D) to crypto_tokens list\n",
    "crypto_tokens.append(token_D)\n",
    "crypto_tokens"
   ]
  },
  {
   "cell_type": "markdown",
   "id": "9fa9eb91",
   "metadata": {},
   "source": [
    "**Q3: Update Data** </br>\n",
    "Task: Update the current price of \"Token C\" to 310.0.\n"
   ]
  },
  {
   "cell_type": "code",
   "execution_count": 4,
   "id": "05f049d8",
   "metadata": {},
   "outputs": [
    {
     "data": {
      "text/plain": [
       "{'name': 'Token C',\n",
       " 'symbol': 'TKC',\n",
       " 'blockchain': 'Solana',\n",
       " 'current_price_usd': 310.0,\n",
       " 'transaction_history': [{'date': '2024-01-10',\n",
       "   'prices': {'open': 295.0, 'close': 300.0, 'high': 302.0, 'low': 294.0},\n",
       "   'volume': 22000},\n",
       "  {'date': '2024-01-09',\n",
       "   'prices': {'open': 294.0, 'close': 295.0, 'high': 296.0, 'low': 293.0},\n",
       "   'volume': 21000}],\n",
       " 'supported_chains': ['Solana', 'Fantom']}"
      ]
     },
     "execution_count": 4,
     "metadata": {},
     "output_type": "execute_result"
    }
   ],
   "source": [
    "crypto_tokens[2][\"current_price_usd\"] = 310.0\n",
    "# Print details for Token C only\n",
    "crypto_tokens[2]"
   ]
  },
  {
   "cell_type": "markdown",
   "id": "565ce8f3",
   "metadata": {},
   "source": [
    "**Q4: Delete Data** </br>\n",
    "Task: Remove the transaction history for \"Token A\" on \"2024-01-09\".\n",
    "\n"
   ]
  },
  {
   "cell_type": "code",
   "execution_count": 5,
   "id": "e2d81091",
   "metadata": {},
   "outputs": [
    {
     "data": {
      "text/plain": [
       "{'name': 'Token A',\n",
       " 'symbol': 'TKA',\n",
       " 'blockchain': 'Ethereum',\n",
       " 'current_price_usd': 100.0,\n",
       " 'transaction_history': [{'date': '2024-01-10',\n",
       "   'prices': {'open': 98.0, 'close': 100.0, 'high': 101.0, 'low': 97.0},\n",
       "   'volume': 12000}],\n",
       " 'supported_chains': ['Ethereum', 'Polygon']}"
      ]
     },
     "execution_count": 5,
     "metadata": {},
     "output_type": "execute_result"
    }
   ],
   "source": [
    "crypto_tokens[0][\"transaction_history\"].pop(1)\n",
    "# Print details for Token A only\n",
    "crypto_tokens[0]"
   ]
  },
  {
   "cell_type": "markdown",
   "id": "7bed619b",
   "metadata": {},
   "source": [
    "**Q5: Read Nested Data** </br>\n",
    "Task: Display the closing price of \"Token B\" on \"2024-01-10\".\n"
   ]
  },
  {
   "cell_type": "code",
   "execution_count": 6,
   "id": "d631403d",
   "metadata": {},
   "outputs": [
    {
     "name": "stdout",
     "output_type": "stream",
     "text": [
      "The closing price of Token B on 2024-01-10 is $200.0\n"
     ]
    }
   ],
   "source": [
    "# Assign the closing price to variable 'b_close'\n",
    "b_close = crypto_tokens[1][\"transaction_history\"][0][\"prices\"][\"close\"]\n",
    "\n",
    "# Display the closing price \n",
    "print(f\"The closing price of Token B on 2024-01-10 is ${b_close}\")"
   ]
  },
  {
   "cell_type": "markdown",
   "id": "33a7bb4a",
   "metadata": {},
   "source": [
    "**Q6: Update Nested Data** </br>\n",
    "Task: Change the opening price of \"Token A\" on \"2024-01-10\" to 99.0.\n"
   ]
  },
  {
   "cell_type": "code",
   "execution_count": 7,
   "id": "e16bb5f9",
   "metadata": {},
   "outputs": [
    {
     "data": {
      "text/plain": [
       "{'name': 'Token A',\n",
       " 'symbol': 'TKA',\n",
       " 'blockchain': 'Ethereum',\n",
       " 'current_price_usd': 100.0,\n",
       " 'transaction_history': [{'date': '2024-01-10',\n",
       "   'prices': {'open': 99.0, 'close': 100.0, 'high': 101.0, 'low': 97.0},\n",
       "   'volume': 12000}],\n",
       " 'supported_chains': ['Ethereum', 'Polygon']}"
      ]
     },
     "execution_count": 7,
     "metadata": {},
     "output_type": "execute_result"
    }
   ],
   "source": [
    "crypto_tokens[0][\"transaction_history\"][0][\"prices\"][\"open\"] = 99.0\n",
    "\n",
    "# Print details for Token A\n",
    "crypto_tokens[0]"
   ]
  },
  {
   "cell_type": "markdown",
   "id": "55afc740",
   "metadata": {},
   "source": [
    "**Q7: Add Nested Data** </br>\n",
    "Task: Add a new transaction history entry for \"Token C\" on \"2024-01-11\".\n"
   ]
  },
  {
   "cell_type": "code",
   "execution_count": 8,
   "id": "e0d8adec",
   "metadata": {},
   "outputs": [
    {
     "data": {
      "text/plain": [
       "{'name': 'Token C',\n",
       " 'symbol': 'TKC',\n",
       " 'blockchain': 'Solana',\n",
       " 'current_price_usd': 310.0,\n",
       " 'transaction_history': [{'date': '2024-01-10',\n",
       "   'prices': {'open': 295.0, 'close': 300.0, 'high': 302.0, 'low': 294.0},\n",
       "   'volume': 22000},\n",
       "  {'date': '2024-01-09',\n",
       "   'prices': {'open': 294.0, 'close': 295.0, 'high': 296.0, 'low': 293.0},\n",
       "   'volume': 21000},\n",
       "  {'date': '2024-01-11',\n",
       "   'prices': {'open': 305.0, 'close': 302.0, 'high': 322.0, 'low': 301.0},\n",
       "   'volume': 12000}],\n",
       " 'supported_chains': ['Solana', 'Fantom']}"
      ]
     },
     "execution_count": 8,
     "metadata": {},
     "output_type": "execute_result"
    }
   ],
   "source": [
    "# Define and initialize new transacation entry for Token C on 2024-01-11\n",
    "token_c_update = {'date': '2024-01-11', 'prices': {'open': 305.0, 'close': 302.0, 'high': 322.0, 'low': 301.0},\n",
    "   'volume': 12000}\n",
    "\n",
    "# Add new entry to crypto_tokens list\n",
    "crypto_tokens[2][\"transaction_history\"].append(token_c_update)\n",
    "\n",
    "# Print details for Token C only\n",
    "crypto_tokens[2]"
   ]
  },
  {
   "cell_type": "markdown",
   "id": "36558ee9",
   "metadata": {},
   "source": [
    "**Q8: Delete an Item from a List Inside a Dictionary** </br>\n",
    "Task: Remove \"Avalanche\" from the supported chains of \"Token B\"."
   ]
  },
  {
   "cell_type": "code",
   "execution_count": 9,
   "id": "e6700b6c",
   "metadata": {},
   "outputs": [
    {
     "data": {
      "text/plain": [
       "{'name': 'Token B',\n",
       " 'symbol': 'TKB',\n",
       " 'blockchain': 'Binance Smart Chain',\n",
       " 'current_price_usd': 200.0,\n",
       " 'transaction_history': [{'date': '2024-01-10',\n",
       "   'prices': {'open': 198.0, 'close': 200.0, 'high': 202.0, 'low': 196.0},\n",
       "   'volume': 18000},\n",
       "  {'date': '2024-01-09',\n",
       "   'prices': {'open': 196.0, 'close': 198.0, 'high': 199.0, 'low': 195.0},\n",
       "   'volume': 17000}],\n",
       " 'supported_chains': ['Binance Smart Chain']}"
      ]
     },
     "execution_count": 9,
     "metadata": {},
     "output_type": "execute_result"
    }
   ],
   "source": [
    "crypto_tokens[1][\"supported_chains\"].pop(1)\n",
    "\n",
    "# Print details for Token B only\n",
    "crypto_tokens[1]"
   ]
  },
  {
   "cell_type": "markdown",
   "id": "afea823e",
   "metadata": {},
   "source": []
  }
 ],
 "metadata": {
  "kernelspec": {
   "display_name": "nedu",
   "language": "python",
   "name": "python3"
  },
  "language_info": {
   "codemirror_mode": {
    "name": "ipython",
    "version": 3
   },
   "file_extension": ".py",
   "mimetype": "text/x-python",
   "name": "python",
   "nbconvert_exporter": "python",
   "pygments_lexer": "ipython3",
   "version": "3.9.13"
  }
 },
 "nbformat": 4,
 "nbformat_minor": 5
}
